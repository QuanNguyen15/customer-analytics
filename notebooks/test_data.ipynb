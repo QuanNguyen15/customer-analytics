{
 "cells": [
  {
   "cell_type": "code",
   "execution_count": 4,
   "metadata": {},
   "outputs": [],
   "source": [
    "import pandas as pd\n",
    "\n",
    "df = pd.read_csv('D:/Big_data/customer-analytics/data/2020-Apr.csv')"
   ]
  },
  {
   "cell_type": "code",
   "execution_count": 5,
   "metadata": {},
   "outputs": [
    {
     "name": "stdout",
     "output_type": "stream",
     "text": [
      "                event_time event_type  product_id          category_id  \\\n",
      "0  2020-04-01 00:00:00 UTC       view     1201465  2232732101407408685   \n",
      "1  2020-04-01 00:00:01 UTC       view     1307156  2053013554658804075   \n",
      "2  2020-04-01 00:00:01 UTC       view     1480477  2053013563835941749   \n",
      "3  2020-04-01 00:00:02 UTC       view     1307050  2053013554658804075   \n",
      "4  2020-04-01 00:00:03 UTC       view     9500109  2232732104175649385   \n",
      "\n",
      "                      category_code     brand    price    user_id  \\\n",
      "0             apparel.shoes.slipons   samsung   230.38  568984877   \n",
      "1       electronics.audio.headphone     apple  1352.67  514955500   \n",
      "2  appliances.kitchen.refrigerators     apple  1184.05  633645770   \n",
      "3       electronics.audio.headphone     apple  1724.34  564933778   \n",
      "4                     apparel.scarf  defender    25.05  530206135   \n",
      "\n",
      "                           user_session  \n",
      "0  e2456cef-2d4f-42b9-a53a-8893cb0c6851  \n",
      "1  38f43134-de83-4710-ae0a-326677d292c6  \n",
      "2  16aba270-b3c2-4b23-be0a-b7c80bc9da9e  \n",
      "3  05b443bd-e68a-4d72-b971-80bd31109cb8  \n",
      "4  e3c1fb4b-0a7e-457d-a0cf-5d1479e9aafc  \n"
     ]
    }
   ],
   "source": [
    "print(df.head(5)) "
   ]
  },
  {
   "cell_type": "code",
   "execution_count": 6,
   "metadata": {},
   "outputs": [
    {
     "name": "stdout",
     "output_type": "stream",
     "text": [
      "event_time        object\n",
      "event_type        object\n",
      "product_id         int64\n",
      "category_id        int64\n",
      "category_code     object\n",
      "brand             object\n",
      "price            float64\n",
      "user_id            int64\n",
      "user_session      object\n",
      "dtype: object\n"
     ]
    }
   ],
   "source": [
    "print(df.dtypes)"
   ]
  },
  {
   "cell_type": "code",
   "execution_count": 7,
   "metadata": {},
   "outputs": [
    {
     "data": {
      "text/plain": [
       "Index(['event_time', 'event_type', 'product_id', 'category_id',\n",
       "       'category_code', 'brand', 'price', 'user_id', 'user_session'],\n",
       "      dtype='object')"
      ]
     },
     "execution_count": 7,
     "metadata": {},
     "output_type": "execute_result"
    }
   ],
   "source": [
    "df.columns"
   ]
  },
  {
   "cell_type": "code",
   "execution_count": 9,
   "metadata": {},
   "outputs": [
    {
     "name": "stdout",
     "output_type": "stream",
     "text": [
      "event_time             0\n",
      "event_type             0\n",
      "product_id             0\n",
      "category_id            0\n",
      "category_code    6755873\n",
      "brand            8992487\n",
      "price                  0\n",
      "user_id                0\n",
      "user_session         109\n",
      "dtype: int64\n"
     ]
    }
   ],
   "source": [
    "missing_values = df.isnull().sum()\n",
    "\n",
    "# Hiển thị số lượng giá trị bị thiếu\n",
    "print(missing_values)"
   ]
  }
 ],
 "metadata": {
  "kernelspec": {
   "display_name": "Python 3",
   "language": "python",
   "name": "python3"
  },
  "language_info": {
   "codemirror_mode": {
    "name": "ipython",
    "version": 3
   },
   "file_extension": ".py",
   "mimetype": "text/x-python",
   "name": "python",
   "nbconvert_exporter": "python",
   "pygments_lexer": "ipython3",
   "version": "3.10.11"
  }
 },
 "nbformat": 4,
 "nbformat_minor": 2
}
